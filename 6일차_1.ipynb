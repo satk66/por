{
  "nbformat": 4,
  "nbformat_minor": 0,
  "metadata": {
    "colab": {
      "name": "6일차_1.ipynb",
      "provenance": [],
      "collapsed_sections": [],
      "authorship_tag": "ABX9TyP4D1Bk2O6oWltbIH8xG4sI",
      "include_colab_link": true
    },
    "kernelspec": {
      "name": "python3",
      "display_name": "Python 3"
    }
  },
  "cells": [
    {
      "cell_type": "markdown",
      "metadata": {
        "id": "view-in-github",
        "colab_type": "text"
      },
      "source": [
        "<a href=\"https://colab.research.google.com/github/satk66/por/blob/master/6%EC%9D%BC%EC%B0%A8_1.ipynb\" target=\"_parent\"><img src=\"https://colab.research.google.com/assets/colab-badge.svg\" alt=\"Open In Colab\"/></a>"
      ]
    },
    {
      "cell_type": "code",
      "metadata": {
        "id": "SJCmpvDrCax7",
        "colab_type": "code",
        "colab": {
          "base_uri": "https://localhost:8080/",
          "height": 89
        },
        "outputId": "291152b7-4908-4862-870f-0ce17100d80e"
      },
      "source": [
        "sub = ['국','수','영','만']\n",
        "for i in range(len(sub)) :\n",
        "  print(i+1,'교시',sub[i])"
      ],
      "execution_count": 4,
      "outputs": [
        {
          "output_type": "stream",
          "text": [
            "1 교시 국\n",
            "2 교시 수\n",
            "3 교시 영\n",
            "4 교시 만\n"
          ],
          "name": "stdout"
        }
      ]
    },
    {
      "cell_type": "code",
      "metadata": {
        "id": "1unmzT_JDQFJ",
        "colab_type": "code",
        "colab": {
          "base_uri": "https://localhost:8080/",
          "height": 89
        },
        "outputId": "3c141309-e7c9-4e11-9c0d-6f3f91097d8d"
      },
      "source": [
        "sub = ['국','수','영','만']\n",
        "for i in range(len(sub)) :\n",
        "  if sub[i] == '수':\n",
        "    print(i+1,'교시',sub[i],'해당')\n",
        "  else : \n",
        "    print(i+1,'교시',sub[i],'해당없음')"
      ],
      "execution_count": 7,
      "outputs": [
        {
          "output_type": "stream",
          "text": [
            "1 교시 국 해당없음\n",
            "2 교시 수 해당\n",
            "3 교시 영 해당없음\n",
            "4 교시 만 해당없음\n"
          ],
          "name": "stdout"
        }
      ]
    },
    {
      "cell_type": "code",
      "metadata": {
        "id": "opOgsNKWDovJ",
        "colab_type": "code",
        "colab": {
          "base_uri": "https://localhost:8080/",
          "height": 89
        },
        "outputId": "1de9773e-18b3-4c63-9892-7ea86c3f8e93"
      },
      "source": [
        "for i, val in enumerate(sub) :\n",
        "  print(i+1, val)"
      ],
      "execution_count": 9,
      "outputs": [
        {
          "output_type": "stream",
          "text": [
            "1 국\n",
            "2 수\n",
            "3 영\n",
            "4 만\n"
          ],
          "name": "stdout"
        }
      ]
    },
    {
      "cell_type": "markdown",
      "metadata": {
        "id": "jfTA6S5cIV81",
        "colab_type": "text"
      },
      "source": [
        "**파이썬 군집 데이터**"
      ]
    },
    {
      "cell_type": "code",
      "metadata": {
        "id": "McAWHndSIcHu",
        "colab_type": "code",
        "colab": {
          "base_uri": "https://localhost:8080/",
          "height": 35
        },
        "outputId": "19a3f803-54f8-403b-bd25-705944b89040"
      },
      "source": [
        "import sys\n",
        "sys.version_info"
      ],
      "execution_count": 11,
      "outputs": [
        {
          "output_type": "execute_result",
          "data": {
            "text/plain": [
              "sys.version_info(major=3, minor=6, micro=9, releaselevel='final', serial=0)"
            ]
          },
          "metadata": {
            "tags": []
          },
          "execution_count": 11
        }
      ]
    },
    {
      "cell_type": "code",
      "metadata": {
        "id": "Dd-AuhT1Ircl",
        "colab_type": "code",
        "colab": {}
      },
      "source": [
        "import this"
      ],
      "execution_count": 0,
      "outputs": []
    },
    {
      "cell_type": "code",
      "metadata": {
        "id": "bVb2yF0eIzB5",
        "colab_type": "code",
        "colab": {
          "base_uri": "https://localhost:8080/",
          "height": 35
        },
        "outputId": "9f2c048d-dbf1-4ca6-ef52-72335b338fe1"
      },
      "source": [
        "True"
      ],
      "execution_count": 15,
      "outputs": [
        {
          "output_type": "execute_result",
          "data": {
            "text/plain": [
              "True"
            ]
          },
          "metadata": {
            "tags": []
          },
          "execution_count": 15
        }
      ]
    },
    {
      "cell_type": "code",
      "metadata": {
        "id": "Vsy_GC-WI3YO",
        "colab_type": "code",
        "colab": {
          "base_uri": "https://localhost:8080/",
          "height": 35
        },
        "outputId": "d64760bf-30d7-46eb-a5bc-d9b0658f58b6"
      },
      "source": [
        "True != 0"
      ],
      "execution_count": 18,
      "outputs": [
        {
          "output_type": "execute_result",
          "data": {
            "text/plain": [
              "True"
            ]
          },
          "metadata": {
            "tags": []
          },
          "execution_count": 18
        }
      ]
    },
    {
      "cell_type": "code",
      "metadata": {
        "id": "K4ZAAT4oI6YK",
        "colab_type": "code",
        "colab": {
          "base_uri": "https://localhost:8080/",
          "height": 35
        },
        "outputId": "5c7f3c6f-a8d7-4b5f-a157-a4262625bbac"
      },
      "source": [
        "False == 0"
      ],
      "execution_count": 19,
      "outputs": [
        {
          "output_type": "execute_result",
          "data": {
            "text/plain": [
              "True"
            ]
          },
          "metadata": {
            "tags": []
          },
          "execution_count": 19
        }
      ]
    },
    {
      "cell_type": "code",
      "metadata": {
        "id": "fGZ6kV7iJDas",
        "colab_type": "code",
        "colab": {
          "base_uri": "https://localhost:8080/",
          "height": 35
        },
        "outputId": "3c8e9b02-4ebd-41a9-a071-e1de54d77d7d"
      },
      "source": [
        "True or False"
      ],
      "execution_count": 20,
      "outputs": [
        {
          "output_type": "execute_result",
          "data": {
            "text/plain": [
              "True"
            ]
          },
          "metadata": {
            "tags": []
          },
          "execution_count": 20
        }
      ]
    },
    {
      "cell_type": "markdown",
      "metadata": {
        "id": "_AskkrooJJrK",
        "colab_type": "text"
      },
      "source": [
        "**문자열**"
      ]
    },
    {
      "cell_type": "code",
      "metadata": {
        "id": "E0uhzYuxJMk0",
        "colab_type": "code",
        "colab": {
          "base_uri": "https://localhost:8080/",
          "height": 35
        },
        "outputId": "96050f5f-e8a8-44fe-9bcf-9787dd28d796"
      },
      "source": [
        "eng = 'Korea COVID 19'\n",
        "eng"
      ],
      "execution_count": 21,
      "outputs": [
        {
          "output_type": "execute_result",
          "data": {
            "text/plain": [
              "'Korea COVID 19'"
            ]
          },
          "metadata": {
            "tags": []
          },
          "execution_count": 21
        }
      ]
    },
    {
      "cell_type": "code",
      "metadata": {
        "id": "lajV3wcVJTvl",
        "colab_type": "code",
        "colab": {
          "base_uri": "https://localhost:8080/",
          "height": 35
        },
        "outputId": "91da396e-a852-4971-e83b-3d448d2162c6"
      },
      "source": [
        "eng.lower()"
      ],
      "execution_count": 22,
      "outputs": [
        {
          "output_type": "execute_result",
          "data": {
            "text/plain": [
              "'korea covid 19'"
            ]
          },
          "metadata": {
            "tags": []
          },
          "execution_count": 22
        }
      ]
    },
    {
      "cell_type": "code",
      "metadata": {
        "id": "byw5zocaJXwO",
        "colab_type": "code",
        "colab": {
          "base_uri": "https://localhost:8080/",
          "height": 35
        },
        "outputId": "4d5cc4b9-c85d-4545-8fc1-8e9ceb846ec2"
      },
      "source": [
        "eng.upper()"
      ],
      "execution_count": 23,
      "outputs": [
        {
          "output_type": "execute_result",
          "data": {
            "text/plain": [
              "'KOREA COVID 19'"
            ]
          },
          "metadata": {
            "tags": []
          },
          "execution_count": 23
        }
      ]
    },
    {
      "cell_type": "markdown",
      "metadata": {
        "id": "4eZCdSdBJcIW",
        "colab_type": "text"
      },
      "source": [
        "**Lists**"
      ]
    },
    {
      "cell_type": "code",
      "metadata": {
        "id": "hp4X91UYJfvG",
        "colab_type": "code",
        "colab": {}
      },
      "source": [
        "data = []"
      ],
      "execution_count": 0,
      "outputs": []
    },
    {
      "cell_type": "code",
      "metadata": {
        "id": "NZNZsFgfJkSu",
        "colab_type": "code",
        "colab": {}
      },
      "source": [
        "data.append('java')\n",
        "data.append('python')\n",
        "data.append('c')"
      ],
      "execution_count": 0,
      "outputs": []
    },
    {
      "cell_type": "code",
      "metadata": {
        "id": "-G48z2nUJ1nW",
        "colab_type": "code",
        "colab": {
          "base_uri": "https://localhost:8080/",
          "height": 35
        },
        "outputId": "db82bc31-5332-4979-d754-d6f3707cfde8"
      },
      "source": [
        "data"
      ],
      "execution_count": 36,
      "outputs": [
        {
          "output_type": "execute_result",
          "data": {
            "text/plain": [
              "['java', 'python', 'c']"
            ]
          },
          "metadata": {
            "tags": []
          },
          "execution_count": 36
        }
      ]
    },
    {
      "cell_type": "code",
      "metadata": {
        "id": "KodHhUweJ49k",
        "colab_type": "code",
        "colab": {
          "base_uri": "https://localhost:8080/",
          "height": 35
        },
        "outputId": "fb9c61a6-f8f3-4c2b-ae7e-30d75f32a8b8"
      },
      "source": [
        "type(data)"
      ],
      "execution_count": 37,
      "outputs": [
        {
          "output_type": "execute_result",
          "data": {
            "text/plain": [
              "list"
            ]
          },
          "metadata": {
            "tags": []
          },
          "execution_count": 37
        }
      ]
    },
    {
      "cell_type": "code",
      "metadata": {
        "id": "2LKb6jHbJ6uF",
        "colab_type": "code",
        "colab": {
          "base_uri": "https://localhost:8080/",
          "height": 35
        },
        "outputId": "e8995cba-8709-421a-9ff6-a6320e2c81f6"
      },
      "source": [
        "data[0],data[-1],data[1:],data[:2]"
      ],
      "execution_count": 43,
      "outputs": [
        {
          "output_type": "execute_result",
          "data": {
            "text/plain": [
              "('java', 'c', ['python', 'c'], ['java', 'python'])"
            ]
          },
          "metadata": {
            "tags": []
          },
          "execution_count": 43
        }
      ]
    },
    {
      "cell_type": "code",
      "metadata": {
        "id": "aZXpfZ3GKRjy",
        "colab_type": "code",
        "colab": {
          "base_uri": "https://localhost:8080/",
          "height": 35
        },
        "outputId": "33ab42f8-982a-4e58-d5b9-b3ede9d9e1be"
      },
      "source": [
        "a= [1,2,3,4,5,6]\n",
        "a"
      ],
      "execution_count": 44,
      "outputs": [
        {
          "output_type": "execute_result",
          "data": {
            "text/plain": [
              "[1, 2, 3, 4, 5, 6]"
            ]
          },
          "metadata": {
            "tags": []
          },
          "execution_count": 44
        }
      ]
    },
    {
      "cell_type": "code",
      "metadata": {
        "id": "69K2lmOLKVWT",
        "colab_type": "code",
        "colab": {}
      },
      "source": [
        "a.append(10)"
      ],
      "execution_count": 0,
      "outputs": []
    },
    {
      "cell_type": "code",
      "metadata": {
        "id": "gQwiOZlUKXIp",
        "colab_type": "code",
        "colab": {
          "base_uri": "https://localhost:8080/",
          "height": 35
        },
        "outputId": "d9b76afa-bc69-416f-b0b1-ead4fc8973a6"
      },
      "source": [
        "a"
      ],
      "execution_count": 47,
      "outputs": [
        {
          "output_type": "execute_result",
          "data": {
            "text/plain": [
              "[1, 2, 3, 4, 5, 6, 10]"
            ]
          },
          "metadata": {
            "tags": []
          },
          "execution_count": 47
        }
      ]
    },
    {
      "cell_type": "code",
      "metadata": {
        "id": "iDr1HND0KejI",
        "colab_type": "code",
        "colab": {
          "base_uri": "https://localhost:8080/",
          "height": 35
        },
        "outputId": "0568ae10-481b-4752-e138-20da1434b44a"
      },
      "source": [
        "a[1]=8\n",
        "a.sort()\n",
        "a.reverse()\n",
        "a"
      ],
      "execution_count": 50,
      "outputs": [
        {
          "output_type": "execute_result",
          "data": {
            "text/plain": [
              "[10, 8, 8, 8, 6, 5, 1]"
            ]
          },
          "metadata": {
            "tags": []
          },
          "execution_count": 50
        }
      ]
    },
    {
      "cell_type": "markdown",
      "metadata": {
        "id": "xiV1eEcnKr_7",
        "colab_type": "text"
      },
      "source": [
        "**Tuple**"
      ]
    },
    {
      "cell_type": "code",
      "metadata": {
        "id": "NBqPj8A_KjlG",
        "colab_type": "code",
        "colab": {
          "base_uri": "https://localhost:8080/",
          "height": 35
        },
        "outputId": "cbbc9e88-70f6-4bba-ac65-0272e880df85"
      },
      "source": [
        "b=(1,2,3, '사 ','오')\n",
        "c=1,2,3\n",
        "type(b), type(c)"
      ],
      "execution_count": 51,
      "outputs": [
        {
          "output_type": "execute_result",
          "data": {
            "text/plain": [
              "(tuple, tuple)"
            ]
          },
          "metadata": {
            "tags": []
          },
          "execution_count": 51
        }
      ]
    },
    {
      "cell_type": "code",
      "metadata": {
        "id": "edzE58cIK6TV",
        "colab_type": "code",
        "colab": {}
      },
      "source": [
        "#b[3]=4"
      ],
      "execution_count": 0,
      "outputs": []
    },
    {
      "cell_type": "code",
      "metadata": {
        "id": "TUthtY2KLE53",
        "colab_type": "code",
        "colab": {
          "base_uri": "https://localhost:8080/",
          "height": 35
        },
        "outputId": "5c4ea4f4-5c57-400f-df83-ee85b0d8fbc4"
      },
      "source": [
        "b[3:],b[1:4]"
      ],
      "execution_count": 54,
      "outputs": [
        {
          "output_type": "execute_result",
          "data": {
            "text/plain": [
              "(('사 ', '오'), (2, 3, '사 '))"
            ]
          },
          "metadata": {
            "tags": []
          },
          "execution_count": 54
        }
      ]
    },
    {
      "cell_type": "markdown",
      "metadata": {
        "id": "KM7nNsaRLPgq",
        "colab_type": "text"
      },
      "source": [
        "**Dictionay{}**"
      ]
    },
    {
      "cell_type": "code",
      "metadata": {
        "id": "eTmvfGBTLQDZ",
        "colab_type": "code",
        "colab": {}
      },
      "source": [
        "# dic = {}"
      ],
      "execution_count": 0,
      "outputs": []
    },
    {
      "cell_type": "code",
      "metadata": {
        "id": "Lxo4v7QWLaWm",
        "colab_type": "code",
        "colab": {
          "base_uri": "https://localhost:8080/",
          "height": 35
        },
        "outputId": "22960d3a-e1af-4625-eda1-235ced526ba6"
      },
      "source": [
        "dic = {'name1' :'마니','학번1':30101,'name2' :'마니2','학번2':30102}\n",
        "dic"
      ],
      "execution_count": 57,
      "outputs": [
        {
          "output_type": "execute_result",
          "data": {
            "text/plain": [
              "{'name1': '마니', 'name2': '마니2', '학번1': 30101, '학번2': 30102}"
            ]
          },
          "metadata": {
            "tags": []
          },
          "execution_count": 57
        }
      ]
    },
    {
      "cell_type": "code",
      "metadata": {
        "id": "Mtq67OK5LyOi",
        "colab_type": "code",
        "colab": {}
      },
      "source": [
        "dic.get('neame1')"
      ],
      "execution_count": 0,
      "outputs": []
    },
    {
      "cell_type": "code",
      "metadata": {
        "id": "NsKWXVjjL1st",
        "colab_type": "code",
        "colab": {
          "base_uri": "https://localhost:8080/",
          "height": 35
        },
        "outputId": "9d513020-4a26-4d15-992e-21a6a93d4a97"
      },
      "source": [
        "dic['name2']"
      ],
      "execution_count": 60,
      "outputs": [
        {
          "output_type": "execute_result",
          "data": {
            "text/plain": [
              "'마니2'"
            ]
          },
          "metadata": {
            "tags": []
          },
          "execution_count": 60
        }
      ]
    },
    {
      "cell_type": "code",
      "metadata": {
        "id": "gTq8LSm2L4Dp",
        "colab_type": "code",
        "colab": {
          "base_uri": "https://localhost:8080/",
          "height": 35
        },
        "outputId": "980912fd-0755-4183-a039-641a62aea67b"
      },
      "source": [
        "dic.keys()"
      ],
      "execution_count": 61,
      "outputs": [
        {
          "output_type": "execute_result",
          "data": {
            "text/plain": [
              "dict_keys(['name1', '학번1', 'name2', '학번2'])"
            ]
          },
          "metadata": {
            "tags": []
          },
          "execution_count": 61
        }
      ]
    },
    {
      "cell_type": "code",
      "metadata": {
        "id": "ejJS6EKBL8Z7",
        "colab_type": "code",
        "colab": {
          "base_uri": "https://localhost:8080/",
          "height": 35
        },
        "outputId": "5791dadd-9821-425b-97c8-f1a5a57c0d22"
      },
      "source": [
        "dic.values()"
      ],
      "execution_count": 62,
      "outputs": [
        {
          "output_type": "execute_result",
          "data": {
            "text/plain": [
              "dict_values(['마니', 30101, '마니2', 30102])"
            ]
          },
          "metadata": {
            "tags": []
          },
          "execution_count": 62
        }
      ]
    },
    {
      "cell_type": "markdown",
      "metadata": {
        "id": "Ah484c7IMP96",
        "colab_type": "text"
      },
      "source": [
        "**set{}**\n"
      ]
    },
    {
      "cell_type": "code",
      "metadata": {
        "id": "JlJNbl_uMT7P",
        "colab_type": "code",
        "colab": {}
      },
      "source": [
        "lunch={'햄버거','치킨','라면',10000}\n",
        "dinner={'피자','오리','라면',10000}\n"
      ],
      "execution_count": 0,
      "outputs": []
    },
    {
      "cell_type": "code",
      "metadata": {
        "id": "TrDfbTXvMncX",
        "colab_type": "code",
        "colab": {
          "base_uri": "https://localhost:8080/",
          "height": 35
        },
        "outputId": "e90034b1-0c62-4ece-b50e-d8c514b5d42e"
      },
      "source": [
        "lunch & dinner"
      ],
      "execution_count": 64,
      "outputs": [
        {
          "output_type": "execute_result",
          "data": {
            "text/plain": [
              "{10000, '라면'}"
            ]
          },
          "metadata": {
            "tags": []
          },
          "execution_count": 64
        }
      ]
    },
    {
      "cell_type": "code",
      "metadata": {
        "id": "k6gWAKdfMsLf",
        "colab_type": "code",
        "colab": {
          "base_uri": "https://localhost:8080/",
          "height": 35
        },
        "outputId": "d3f77f09-c9d2-4511-cc71-398962f002f1"
      },
      "source": [
        "dinner-lunch"
      ],
      "execution_count": 65,
      "outputs": [
        {
          "output_type": "execute_result",
          "data": {
            "text/plain": [
              "{'오리', '피자'}"
            ]
          },
          "metadata": {
            "tags": []
          },
          "execution_count": 65
        }
      ]
    },
    {
      "cell_type": "code",
      "metadata": {
        "id": "RPPa-SnbMvr1",
        "colab_type": "code",
        "colab": {
          "base_uri": "https://localhost:8080/",
          "height": 35
        },
        "outputId": "804fa048-16a3-47e4-da67-6efee98ba057"
      },
      "source": [
        "dinner "
      ],
      "execution_count": 67,
      "outputs": [
        {
          "output_type": "execute_result",
          "data": {
            "text/plain": [
              "{10000, '라면', '오리', '피자'}"
            ]
          },
          "metadata": {
            "tags": []
          },
          "execution_count": 67
        }
      ]
    },
    {
      "cell_type": "markdown",
      "metadata": {
        "id": "ftQvJBjkO-cb",
        "colab_type": "text"
      },
      "source": [
        ""
      ]
    },
    {
      "cell_type": "code",
      "metadata": {
        "id": "bSnoTtFkMz0o",
        "colab_type": "code",
        "colab": {}
      },
      "source": [
        ""
      ],
      "execution_count": 0,
      "outputs": []
    }
  ]
}