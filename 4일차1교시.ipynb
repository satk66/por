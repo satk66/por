{
  "nbformat": 4,
  "nbformat_minor": 0,
  "metadata": {
    "colab": {
      "name": "4일차1교시.ipynb",
      "provenance": [],
      "collapsed_sections": [],
      "authorship_tag": "ABX9TyMKgwVZhEwWsieM/IW/Ivoy",
      "include_colab_link": true
    },
    "kernelspec": {
      "name": "python3",
      "display_name": "Python 3"
    }
  },
  "cells": [
    {
      "cell_type": "markdown",
      "metadata": {
        "id": "view-in-github",
        "colab_type": "text"
      },
      "source": [
        "<a href=\"https://colab.research.google.com/github/satk66/por/blob/master/4%EC%9D%BC%EC%B0%A81%EA%B5%90%EC%8B%9C.ipynb\" target=\"_parent\"><img src=\"https://colab.research.google.com/assets/colab-badge.svg\" alt=\"Open In Colab\"/></a>"
      ]
    },
    {
      "cell_type": "markdown",
      "metadata": {
        "id": "mH7DXg7b7vh3",
        "colab_type": "text"
      },
      "source": [
        "**학습목표**\n",
        "\n",
        "1. List, Range\n",
        "2. For 문"
      ]
    },
    {
      "cell_type": "code",
      "metadata": {
        "id": "If3dX1R17-ki",
        "colab_type": "code",
        "colab": {
          "base_uri": "https://localhost:8080/",
          "height": 35
        },
        "outputId": "44f60089-0bb4-4c8d-9ed7-c3f04a2fc137"
      },
      "source": [
        "range(5)"
      ],
      "execution_count": 1,
      "outputs": [
        {
          "output_type": "execute_result",
          "data": {
            "text/plain": [
              "range(0, 5)"
            ]
          },
          "metadata": {
            "tags": []
          },
          "execution_count": 1
        }
      ]
    },
    {
      "cell_type": "code",
      "metadata": {
        "id": "TKxaoou98LNV",
        "colab_type": "code",
        "colab": {
          "base_uri": "https://localhost:8080/",
          "height": 35
        },
        "outputId": "99382bba-2d8e-47ae-cf00-28198b347009"
      },
      "source": [
        "a= list(range(1,10,2))\n",
        "a"
      ],
      "execution_count": 5,
      "outputs": [
        {
          "output_type": "execute_result",
          "data": {
            "text/plain": [
              "[1, 3, 5, 7, 9]"
            ]
          },
          "metadata": {
            "tags": []
          },
          "execution_count": 5
        }
      ]
    },
    {
      "cell_type": "code",
      "metadata": {
        "id": "1pocy43187f_",
        "colab_type": "code",
        "colab": {
          "base_uri": "https://localhost:8080/",
          "height": 35
        },
        "outputId": "193f97d8-08b9-4346-a1d6-b63bbffbbf7e"
      },
      "source": [
        "a= list(range(10,0,-2))\n",
        "a"
      ],
      "execution_count": 7,
      "outputs": [
        {
          "output_type": "execute_result",
          "data": {
            "text/plain": [
              "[10, 8, 6, 4, 2]"
            ]
          },
          "metadata": {
            "tags": []
          },
          "execution_count": 7
        }
      ]
    },
    {
      "cell_type": "code",
      "metadata": {
        "id": "HK2SNAYJ9BK_",
        "colab_type": "code",
        "colab": {
          "base_uri": "https://localhost:8080/",
          "height": 35
        },
        "outputId": "5e0a0c12-8eba-4aa5-b20d-a008c12785f9"
      },
      "source": [
        "type(a)"
      ],
      "execution_count": 8,
      "outputs": [
        {
          "output_type": "execute_result",
          "data": {
            "text/plain": [
              "list"
            ]
          },
          "metadata": {
            "tags": []
          },
          "execution_count": 8
        }
      ]
    },
    {
      "cell_type": "code",
      "metadata": {
        "id": "5iQBo8q19CiH",
        "colab_type": "code",
        "colab": {
          "base_uri": "https://localhost:8080/",
          "height": 35
        },
        "outputId": "028a490f-e331-475b-a8b9-7f6b32f0a9a5"
      },
      "source": [
        "for i in range(1,10):\n",
        "  print(i, end=' ')"
      ],
      "execution_count": 10,
      "outputs": [
        {
          "output_type": "stream",
          "text": [
            "1 2 3 4 5 6 7 8 9 "
          ],
          "name": "stdout"
        }
      ]
    },
    {
      "cell_type": "markdown",
      "metadata": {
        "id": "_ddjaX3O9iqI",
        "colab_type": "text"
      },
      "source": [
        "**[문제 1]**\n",
        "\n",
        "for문을 이용하여 10 부터 0까지 -2 출"
      ]
    },
    {
      "cell_type": "code",
      "metadata": {
        "id": "uCiEeMYq9wKu",
        "colab_type": "code",
        "colab": {
          "base_uri": "https://localhost:8080/",
          "height": 35
        },
        "outputId": "0802beb4-e492-4e01-d274-90c415440dd3"
      },
      "source": [
        "for i in range(10,-2,-2):\n",
        "  print(i,end=' ')"
      ],
      "execution_count": 14,
      "outputs": [
        {
          "output_type": "stream",
          "text": [
            "10 8 6 4 2 0 "
          ],
          "name": "stdout"
        }
      ]
    },
    {
      "cell_type": "code",
      "metadata": {
        "id": "ykCRvN-T-D3u",
        "colab_type": "code",
        "colab": {
          "base_uri": "https://localhost:8080/",
          "height": 125
        },
        "outputId": "b4a17a22-77ce-4968-cc9d-26c3fc4da308"
      },
      "source": [
        "a=[1,3,2.1,4,5,5.1]\n",
        "for i in a :\n",
        "  print (a)"
      ],
      "execution_count": 15,
      "outputs": [
        {
          "output_type": "stream",
          "text": [
            "[1, 3, 2.1, 4, 5, 5.1]\n",
            "[1, 3, 2.1, 4, 5, 5.1]\n",
            "[1, 3, 2.1, 4, 5, 5.1]\n",
            "[1, 3, 2.1, 4, 5, 5.1]\n",
            "[1, 3, 2.1, 4, 5, 5.1]\n",
            "[1, 3, 2.1, 4, 5, 5.1]\n"
          ],
          "name": "stdout"
        }
      ]
    },
    {
      "cell_type": "code",
      "metadata": {
        "id": "MFgxAzEm-iPS",
        "colab_type": "code",
        "colab": {
          "base_uri": "https://localhost:8080/",
          "height": 125
        },
        "outputId": "e2404723-9412-43d7-d14e-bf82c906e5ec"
      },
      "source": [
        "a=[1,3,2.1,4,5,5.1]\n",
        "for i in range(len(a)) :\n",
        "  print (a[i])"
      ],
      "execution_count": 18,
      "outputs": [
        {
          "output_type": "stream",
          "text": [
            "1\n",
            "3\n",
            "2.1\n",
            "4\n",
            "5\n",
            "5.1\n"
          ],
          "name": "stdout"
        }
      ]
    },
    {
      "cell_type": "markdown",
      "metadata": {
        "id": "Gnvm3L_l_W-r",
        "colab_type": "text"
      },
      "source": [
        "**[문제 2]**\n",
        "\n",
        "for문을 Hello python 1~10  까지 출력"
      ]
    },
    {
      "cell_type": "code",
      "metadata": {
        "id": "I9JUoLSO_jxx",
        "colab_type": "code",
        "colab": {
          "base_uri": "https://localhost:8080/",
          "height": 197
        },
        "outputId": "ba7acb58-a751-497f-dae3-97f055643db7"
      },
      "source": [
        "for i in range(1,11) :\n",
        "  print ('Hello python ',i)"
      ],
      "execution_count": 22,
      "outputs": [
        {
          "output_type": "stream",
          "text": [
            "Hello python  1\n",
            "Hello python  2\n",
            "Hello python  3\n",
            "Hello python  4\n",
            "Hello python  5\n",
            "Hello python  6\n",
            "Hello python  7\n",
            "Hello python  8\n",
            "Hello python  9\n",
            "Hello python  10\n"
          ],
          "name": "stdout"
        }
      ]
    },
    {
      "cell_type": "code",
      "metadata": {
        "id": "Ds5uZft8AQgr",
        "colab_type": "code",
        "colab": {
          "base_uri": "https://localhost:8080/",
          "height": 53
        },
        "outputId": "58400991-16fe-44c3-f05a-02a023289080"
      },
      "source": [
        "count=int(input('반복할 수'))\n",
        "for i in range(count) :\n",
        "  print ('Hello python ',i+2)"
      ],
      "execution_count": 25,
      "outputs": [
        {
          "output_type": "stream",
          "text": [
            "반복할 수1\n",
            "Hello python  2\n"
          ],
          "name": "stdout"
        }
      ]
    },
    {
      "cell_type": "code",
      "metadata": {
        "id": "ait9MQFLBM3i",
        "colab_type": "code",
        "colab": {
          "base_uri": "https://localhost:8080/",
          "height": 53
        },
        "outputId": "0c435b00-b856-4618-d94d-42222e6811ca"
      },
      "source": [
        "a=list(map(int,(input('숫자입력 >>').split())))\n",
        "print(a)"
      ],
      "execution_count": 32,
      "outputs": [
        {
          "output_type": "stream",
          "text": [
            "숫자입력 >>3\n",
            "[3]\n"
          ],
          "name": "stdout"
        }
      ]
    },
    {
      "cell_type": "markdown",
      "metadata": {
        "id": "7vQQInfhCcC5",
        "colab_type": "text"
      },
      "source": [
        "**[문제 3]**\n",
        "\n",
        "숫자 5개룰 입력 받아 합계 **구하기**"
      ]
    },
    {
      "cell_type": "code",
      "metadata": {
        "id": "LS8TqRIeCli7",
        "colab_type": "code",
        "colab": {
          "base_uri": "https://localhost:8080/",
          "height": 71
        },
        "outputId": "d712bffd-c8cc-4b76-be5a-b44757e69f97"
      },
      "source": [
        "a=list(map(int,(input('숫자입력 >>').split())))\n",
        "sum=0\n",
        "avg=0.0\n",
        "for i in range(len(a)) :\n",
        "   sum+=a[i]\n",
        "print('합계 : ',sum)\n",
        "avg = sum/len(a)\n",
        "print('평균 : ',avg)"
      ],
      "execution_count": 46,
      "outputs": [
        {
          "output_type": "stream",
          "text": [
            "숫자입력 >>1 2 3 \n",
            "합계 :  6\n",
            "평균 :  2.0\n"
          ],
          "name": "stdout"
        }
      ]
    }
  ]
}