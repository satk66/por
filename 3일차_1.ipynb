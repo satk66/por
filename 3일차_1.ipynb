{
  "nbformat": 4,
  "nbformat_minor": 0,
  "metadata": {
    "colab": {
      "name": "3일차_1",
      "provenance": [],
      "collapsed_sections": [],
      "authorship_tag": "ABX9TyM9GHC1tpSLG3ajsMGqqFDq",
      "include_colab_link": true
    },
    "kernelspec": {
      "name": "python3",
      "display_name": "Python 3"
    }
  },
  "cells": [
    {
      "cell_type": "markdown",
      "metadata": {
        "id": "view-in-github",
        "colab_type": "text"
      },
      "source": [
        "<a href=\"https://colab.research.google.com/github/satk66/por/blob/master/3%EC%9D%BC%EC%B0%A8_1.ipynb\" target=\"_parent\"><img src=\"https://colab.research.google.com/assets/colab-badge.svg\" alt=\"Open In Colab\"/></a>"
      ]
    },
    {
      "cell_type": "code",
      "metadata": {
        "id": "_kmXHUv5FHim",
        "colab_type": "code",
        "colab": {}
      },
      "source": [
        "dic = {'멋쟁이':0, '홍석찬':1, '핵인싸':2, '최경민':30221}"
      ],
      "execution_count": 0,
      "outputs": []
    },
    {
      "cell_type": "code",
      "metadata": {
        "id": "2mSNwNnAFL-f",
        "colab_type": "code",
        "colab": {
          "base_uri": "https://localhost:8080/",
          "height": 35
        },
        "outputId": "8369cd96-d43a-4b6f-9b15-61d143fdcd3c"
      },
      "source": [
        "dic['멋쟁이'],dic['핵인싸'],dic['최경민']"
      ],
      "execution_count": 2,
      "outputs": [
        {
          "output_type": "execute_result",
          "data": {
            "text/plain": [
              "(0, 2, 30221)"
            ]
          },
          "metadata": {
            "tags": []
          },
          "execution_count": 2
        }
      ]
    },
    {
      "cell_type": "code",
      "metadata": {
        "id": "nvYNpMhVFRO2",
        "colab_type": "code",
        "colab": {
          "base_uri": "https://localhost:8080/",
          "height": 35
        },
        "outputId": "1d4dac2b-bdb5-4dda-9627-7600c62a6d6f"
      },
      "source": [
        "dic.get(\"멋쟁이\")\n"
      ],
      "execution_count": 3,
      "outputs": [
        {
          "output_type": "execute_result",
          "data": {
            "text/plain": [
              "0"
            ]
          },
          "metadata": {
            "tags": []
          },
          "execution_count": 3
        }
      ]
    },
    {
      "cell_type": "code",
      "metadata": {
        "id": "mam0H2yLFRxp",
        "colab_type": "code",
        "colab": {
          "base_uri": "https://localhost:8080/",
          "height": 35
        },
        "outputId": "811d69be-61fe-4bda-ee23-1ead6be2272c"
      },
      "source": [
        "dic.values()"
      ],
      "execution_count": 4,
      "outputs": [
        {
          "output_type": "execute_result",
          "data": {
            "text/plain": [
              "dict_values([0, 1, 2, 30221])"
            ]
          },
          "metadata": {
            "tags": []
          },
          "execution_count": 4
        }
      ]
    },
    {
      "cell_type": "code",
      "metadata": {
        "id": "GeWLa93kFS88",
        "colab_type": "code",
        "colab": {
          "base_uri": "https://localhost:8080/",
          "height": 35
        },
        "outputId": "8221d796-cbb2-47c0-da45-54993c01675e"
      },
      "source": [
        "dic.items()"
      ],
      "execution_count": 5,
      "outputs": [
        {
          "output_type": "execute_result",
          "data": {
            "text/plain": [
              "dict_items([('멋쟁이', 0), ('홍석찬', 1), ('핵인싸', 2), ('최경민', 30221)])"
            ]
          },
          "metadata": {
            "tags": []
          },
          "execution_count": 5
        }
      ]
    },
    {
      "cell_type": "code",
      "metadata": {
        "id": "Urog9gA2FTDs",
        "colab_type": "code",
        "colab": {}
      },
      "source": [
        "dic.keys()"
      ],
      "execution_count": 0,
      "outputs": []
    },
    {
      "cell_type": "code",
      "metadata": {
        "id": "IqE2kbUSFTKY",
        "colab_type": "code",
        "colab": {}
      },
      "source": [
        "a='인천정보산업고등학교'\n",
        "type(a)"
      ],
      "execution_count": 0,
      "outputs": []
    },
    {
      "cell_type": "code",
      "metadata": {
        "id": "Mfgn7c_tFTPd",
        "colab_type": "code",
        "colab": {
          "base_uri": "https://localhost:8080/",
          "height": 35
        },
        "outputId": "07ec3930-97c7-4c49-c347-c3b820ab8ab5"
      },
      "source": [
        "type(dic)"
      ],
      "execution_count": 6,
      "outputs": [
        {
          "output_type": "execute_result",
          "data": {
            "text/plain": [
              "dict"
            ]
          },
          "metadata": {
            "tags": []
          },
          "execution_count": 6
        }
      ]
    },
    {
      "cell_type": "code",
      "metadata": {
        "id": "9vh9tl8YFboz",
        "colab_type": "code",
        "colab": {
          "base_uri": "https://localhost:8080/",
          "height": 35
        },
        "outputId": "c04e4747-590f-4fae-b152-d5c252b16b65"
      },
      "source": [
        "b=[1,2,3,4,5]\n",
        "type(b)\n",
        "b[0]=8\n",
        "b"
      ],
      "execution_count": 7,
      "outputs": [
        {
          "output_type": "execute_result",
          "data": {
            "text/plain": [
              "[8, 2, 3, 4, 5]"
            ]
          },
          "metadata": {
            "tags": []
          },
          "execution_count": 7
        }
      ]
    },
    {
      "cell_type": "code",
      "metadata": {
        "id": "RHPdr85QFcIo",
        "colab_type": "code",
        "colab": {
          "base_uri": "https://localhost:8080/",
          "height": 35
        },
        "outputId": "922b9bae-c6be-4c8e-c581-74515ec2068f"
      },
      "source": [
        "c=[1,2,3,4,5]\n",
        "type(c)\n",
        "c[0]=8\n",
        "c"
      ],
      "execution_count": 8,
      "outputs": [
        {
          "output_type": "execute_result",
          "data": {
            "text/plain": [
              "[8, 2, 3, 4, 5]"
            ]
          },
          "metadata": {
            "tags": []
          },
          "execution_count": 8
        }
      ]
    },
    {
      "cell_type": "markdown",
      "metadata": {
        "id": "1MtlY7DqFeXW",
        "colab_type": "text"
      },
      "source": [
        "문제풀이 문자 100번 출"
      ]
    },
    {
      "cell_type": "code",
      "metadata": {
        "id": "nfduegBlFhjQ",
        "colab_type": "code",
        "colab": {
          "base_uri": "https://localhost:8080/",
          "height": 35
        },
        "outputId": "2364220f-876a-4b37-ed9f-37928b8148b8"
      },
      "source": [
        "print(\"*\"*100)"
      ],
      "execution_count": 9,
      "outputs": [
        {
          "output_type": "stream",
          "text": [
            "****************************************************************************************************\n"
          ],
          "name": "stdout"
        }
      ]
    },
    {
      "cell_type": "markdown",
      "metadata": {
        "id": "Lqul4FTOFjqe",
        "colab_type": "text"
      },
      "source": [
        "input()내장 함수를 이용하여 id에 입력을 받기"
      ]
    },
    {
      "cell_type": "code",
      "metadata": {
        "id": "IE_ICjU6FlhL",
        "colab_type": "code",
        "colab": {
          "base_uri": "https://localhost:8080/",
          "height": 53
        },
        "outputId": "62b205a8-2792-4311-9b7f-443d094c7360"
      },
      "source": [
        "id = input('id를 입력해라')\n",
        "print('당신의 id는'+id)"
      ],
      "execution_count": 10,
      "outputs": [
        {
          "output_type": "stream",
          "text": [
            "id를 입력해라아\n",
            "당신의 id는아\n"
          ],
          "name": "stdout"
        }
      ]
    },
    {
      "cell_type": "markdown",
      "metadata": {
        "id": "JSjXhuozFsGd",
        "colab_type": "text"
      },
      "source": [
        "문제 3 나의 나이를 입력받아(변수:gap)환갑이 되는 나이 년도 구해보기 "
      ]
    },
    {
      "cell_type": "code",
      "metadata": {
        "id": "DmveviFIGizo",
        "colab_type": "code",
        "colab": {
          "base_uri": "https://localhost:8080/",
          "height": 53
        },
        "outputId": "c4908a44-826b-4575-ff75-e5d6aa0abc24"
      },
      "source": [
        "gap = int(input(\"태어난 년도를 입력: \"))\n",
        "h=gap+60\n",
        "print(\"당신이 환갑이 되는 년도는\" ,h,\"입니다\")"
      ],
      "execution_count": 12,
      "outputs": [
        {
          "output_type": "stream",
          "text": [
            "태어난 년도를 입력: 2320\n",
            "당신이 환갑이 되는 년도는 2380 입니다\n"
          ],
          "name": "stdout"
        }
      ]
    },
    {
      "cell_type": "markdown",
      "metadata": {
        "id": "FR4Cr6MJFvNk",
        "colab_type": "text"
      },
      "source": [
        "문제 4\n",
        "두개의  숫자를 입력받아 **,%./,//\n",
        "\n"
      ]
    },
    {
      "cell_type": "code",
      "metadata": {
        "id": "NQgE1Mn8F3Fd",
        "colab_type": "code",
        "colab": {}
      },
      "source": [
        "a,b = input ('두개의 숫자 입력').split()\n",
        "print(a,b)"
      ],
      "execution_count": 0,
      "outputs": []
    },
    {
      "cell_type": "markdown",
      "metadata": {
        "id": "YsgNtXoZGLV9",
        "colab_type": "text"
      },
      "source": [
        ""
      ]
    }
  ]
}