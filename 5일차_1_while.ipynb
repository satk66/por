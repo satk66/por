{
  "nbformat": 4,
  "nbformat_minor": 0,
  "metadata": {
    "colab": {
      "name": "5일차_1 while.ipynb",
      "provenance": [],
      "collapsed_sections": [],
      "authorship_tag": "ABX9TyO9leFpeiPsC5Gp6MB5Hhfo",
      "include_colab_link": true
    },
    "kernelspec": {
      "name": "python3",
      "display_name": "Python 3"
    }
  },
  "cells": [
    {
      "cell_type": "markdown",
      "metadata": {
        "id": "view-in-github",
        "colab_type": "text"
      },
      "source": [
        "<a href=\"https://colab.research.google.com/github/satk66/por/blob/master/5%EC%9D%BC%EC%B0%A8_1_while.ipynb\" target=\"_parent\"><img src=\"https://colab.research.google.com/assets/colab-badge.svg\" alt=\"Open In Colab\"/></a>"
      ]
    },
    {
      "cell_type": "markdown",
      "metadata": {
        "id": "YTRYctl_5ilb",
        "colab_type": "text"
      },
      "source": [
        "# 1.1while\n",
        "\n",
        "# for"
      ]
    },
    {
      "cell_type": "code",
      "metadata": {
        "id": "_VzhQVa_5rW2",
        "colab_type": "code",
        "colab": {
          "base_uri": "https://localhost:8080/",
          "height": 35
        },
        "outputId": "1ac7ee00-20d3-4bca-da80-976c237a8dbb"
      },
      "source": [
        "for i in range(1,11,2) :\n",
        "  print(i, end=' ')"
      ],
      "execution_count": 3,
      "outputs": [
        {
          "output_type": "stream",
          "text": [
            "1 3 5 7 9 "
          ],
          "name": "stdout"
        }
      ]
    },
    {
      "cell_type": "code",
      "metadata": {
        "id": "FD5630FW6F5B",
        "colab_type": "code",
        "colab": {
          "base_uri": "https://localhost:8080/",
          "height": 35
        },
        "outputId": "a28c94e1-9cdd-4ee6-a718-374aef1d74d9"
      },
      "source": [
        "i=1\n",
        "while(i<11):\n",
        "  print(i, end=' ')\n",
        "  i+=2"
      ],
      "execution_count": 6,
      "outputs": [
        {
          "output_type": "stream",
          "text": [
            "1 3 5 7 9 "
          ],
          "name": "stdout"
        }
      ]
    },
    {
      "cell_type": "code",
      "metadata": {
        "id": "ryeV9IpA6c0a",
        "colab_type": "code",
        "colab": {
          "base_uri": "https://localhost:8080/",
          "height": 35
        },
        "outputId": "69ca0eeb-9c96-4a5b-9ec0-0a34fd0ed6e2"
      },
      "source": [
        "num=list(range(10,110,10))\n",
        "num"
      ],
      "execution_count": 10,
      "outputs": [
        {
          "output_type": "execute_result",
          "data": {
            "text/plain": [
              "[10, 20, 30, 40, 50, 60, 70, 80, 90, 100]"
            ]
          },
          "metadata": {
            "tags": []
          },
          "execution_count": 10
        }
      ]
    },
    {
      "cell_type": "code",
      "metadata": {
        "id": "7U9kNXr97AnI",
        "colab_type": "code",
        "colab": {
          "base_uri": "https://localhost:8080/",
          "height": 35
        },
        "outputId": "29a1ec40-97c1-4382-d17e-fc7cfcd2cefe"
      },
      "source": [
        "a=0\n",
        "while(a<len(num)) :\n",
        "  print(num[a], end=' ')\n",
        "  a+=1"
      ],
      "execution_count": 12,
      "outputs": [
        {
          "output_type": "stream",
          "text": [
            "10 20 30 40 50 60 70 80 90 100 "
          ],
          "name": "stdout"
        }
      ]
    },
    {
      "cell_type": "code",
      "metadata": {
        "id": "Ax_AgC996-nH",
        "colab_type": "code",
        "colab": {
          "base_uri": "https://localhost:8080/",
          "height": 107
        },
        "outputId": "42a7e635-b2cb-41c8-9731-74598dc47bd4"
      },
      "source": [
        "lunch =['ㅁ','ㅇ','ㅂ','ㄱ','ㅎ']\n",
        "i=0\n",
        "while(i<len(lunch)) :\n",
        "  print(lunch[i])\n",
        "  i+=1"
      ],
      "execution_count": 14,
      "outputs": [
        {
          "output_type": "stream",
          "text": [
            "ㅁ\n",
            "ㅇ\n",
            "ㅂ\n",
            "ㄱ\n",
            "ㅎ\n"
          ],
          "name": "stdout"
        }
      ]
    },
    {
      "cell_type": "code",
      "metadata": {
        "id": "lfZhMD7N8CBo",
        "colab_type": "code",
        "colab": {
          "base_uri": "https://localhost:8080/",
          "height": 35
        },
        "outputId": "12ac6725-d239-4e22-c3a7-d77e9e3d4137"
      },
      "source": [
        "lunch.sort()\n",
        "lunch"
      ],
      "execution_count": 16,
      "outputs": [
        {
          "output_type": "execute_result",
          "data": {
            "text/plain": [
              "['ㄱ', 'ㅁ', 'ㅂ', 'ㅇ', 'ㅎ']"
            ]
          },
          "metadata": {
            "tags": []
          },
          "execution_count": 16
        }
      ]
    },
    {
      "cell_type": "code",
      "metadata": {
        "id": "qqTmKGUd8bYh",
        "colab_type": "code",
        "colab": {
          "base_uri": "https://localhost:8080/",
          "height": 35
        },
        "outputId": "70b41380-47b9-41f4-a6a9-363270d4e708"
      },
      "source": [
        "lunch.reverse()\n",
        "lunch"
      ],
      "execution_count": 17,
      "outputs": [
        {
          "output_type": "execute_result",
          "data": {
            "text/plain": [
              "['ㅎ', 'ㅇ', 'ㅂ', 'ㅁ', 'ㄱ']"
            ]
          },
          "metadata": {
            "tags": []
          },
          "execution_count": 17
        }
      ]
    },
    {
      "cell_type": "code",
      "metadata": {
        "id": "Km1_mqZR8hI9",
        "colab_type": "code",
        "colab": {}
      },
      "source": [
        "import random as r\n",
        "r.shuff"
      ],
      "execution_count": 0,
      "outputs": []
    },
    {
      "cell_type": "markdown",
      "metadata": {
        "id": "fmB5smiV9ER8",
        "colab_type": "text"
      },
      "source": [
        "break ~ conti"
      ]
    },
    {
      "cell_type": "code",
      "metadata": {
        "id": "ZTXb6bi_9HM4",
        "colab_type": "code",
        "colab": {
          "base_uri": "https://localhost:8080/",
          "height": 35
        },
        "outputId": "aaf19dee-5b69-40f4-8ef4-192ad276c691"
      },
      "source": [
        "i=1\n",
        "while i<=10 :\n",
        "  print(i,end=' ')\n",
        "  i+=1\n",
        "  if i<7 :\n",
        "    continue\n",
        "  break"
      ],
      "execution_count": 18,
      "outputs": [
        {
          "output_type": "stream",
          "text": [
            "1 2 3 4 5 6 "
          ],
          "name": "stdout"
        }
      ]
    },
    {
      "cell_type": "markdown",
      "metadata": {
        "id": "QkQhw_si9fla",
        "colab_type": "text"
      },
      "source": [
        "**[문제1]**"
      ]
    },
    {
      "cell_type": "code",
      "metadata": {
        "id": "NgQCX6OT9jmx",
        "colab_type": "code",
        "colab": {
          "base_uri": "https://localhost:8080/",
          "height": 35
        },
        "outputId": "5e3b57fa-9c7d-49de-df9d-fcda1c3362ea"
      },
      "source": [
        "num=range(10,110,10)\n",
        "while(i<len(num)):\n",
        "  print(num[i],end='/')\n",
        "  i+=1\n",
        "  if num[i] == 50 :\n",
        "    continue\n",
        "  num == 80\n",
        "  break"
      ],
      "execution_count": 21,
      "outputs": [
        {
          "output_type": "stream",
          "text": [
            "80/"
          ],
          "name": "stdout"
        }
      ]
    },
    {
      "cell_type": "code",
      "metadata": {
        "id": "OK_GyZhiHysP",
        "colab_type": "code",
        "colab": {}
      },
      "source": [
        "echo = input('입력>>')\n",
        "while echo!='exit'"
      ],
      "execution_count": 0,
      "outputs": []
    }
  ]
}