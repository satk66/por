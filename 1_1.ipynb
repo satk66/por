{
  "nbformat": 4,
  "nbformat_minor": 0,
  "metadata": {
    "colab": {
      "name": "1_1.ipynb",
      "provenance": [],
      "collapsed_sections": [],
      "authorship_tag": "ABX9TyNwsFrzKNJQWQLlsRVhbjry",
      "include_colab_link": true
    },
    "kernelspec": {
      "name": "python3",
      "display_name": "Python 3"
    }
  },
  "cells": [
    {
      "cell_type": "markdown",
      "metadata": {
        "id": "view-in-github",
        "colab_type": "text"
      },
      "source": [
        "<a href=\"https://colab.research.google.com/github/satk66/por/blob/master/1_1.ipynb\" target=\"_parent\"><img src=\"https://colab.research.google.com/assets/colab-badge.svg\" alt=\"Open In Colab\"/></a>"
      ]
    },
    {
      "cell_type": "markdown",
      "metadata": {
        "id": "yjw8OqFi4f2U",
        "colab_type": "text"
      },
      "source": [
        "사칙연산\n",
        "\n",
        "# + , - , * ,**, / , //, %\n",
        "a=3, b=2\n",
        "a+b=5"
      ]
    },
    {
      "cell_type": "code",
      "metadata": {
        "id": "OmE6Hir344w_",
        "colab_type": "code",
        "outputId": "1b0800ae-734f-4786-b2b4-62ae105b0dfe",
        "colab": {
          "base_uri": "https://localhost:8080/",
          "height": 35
        }
      },
      "source": [
        "a=3\n",
        "b=2\n",
        "print('a + b = ',a+b)"
      ],
      "execution_count": 0,
      "outputs": [
        {
          "output_type": "stream",
          "text": [
            "a+b= 5\n"
          ],
          "name": "stdout"
        }
      ]
    },
    {
      "cell_type": "code",
      "metadata": {
        "id": "5MVh3tEb5QTz",
        "colab_type": "code",
        "outputId": "00677e06-1349-44c7-9d67-7e12897e08f6",
        "colab": {
          "base_uri": "https://localhost:8080/",
          "height": 35
        }
      },
      "source": [
        "a=50\n",
        "b=20\n",
        "print('a - b = ',a-b)"
      ],
      "execution_count": 0,
      "outputs": [
        {
          "output_type": "stream",
          "text": [
            "a - b =  30\n"
          ],
          "name": "stdout"
        }
      ]
    },
    {
      "cell_type": "code",
      "metadata": {
        "id": "slVmIkQu6M3R",
        "colab_type": "code",
        "outputId": "f71c78d9-85fd-49d1-dcf3-ddb306d224cb",
        "colab": {
          "base_uri": "https://localhost:8080/",
          "height": 35
        }
      },
      "source": [
        "a= 18\n",
        "b= 30\n",
        "print('a * b =',a*b)"
      ],
      "execution_count": 0,
      "outputs": [
        {
          "output_type": "stream",
          "text": [
            "a * b = 540\n"
          ],
          "name": "stdout"
        }
      ]
    },
    {
      "cell_type": "code",
      "metadata": {
        "id": "lYUl04PT6jjM",
        "colab_type": "code",
        "outputId": "bb3e524c-c158-4d2f-9e7d-bcdfea7693ec",
        "colab": {
          "base_uri": "https://localhost:8080/",
          "height": 35
        }
      },
      "source": [
        "a=90\n",
        "b=3\n",
        "print('a % b = ',a%b) "
      ],
      "execution_count": 0,
      "outputs": [
        {
          "output_type": "stream",
          "text": [
            "a % b =  0\n"
          ],
          "name": "stdout"
        }
      ]
    },
    {
      "cell_type": "code",
      "metadata": {
        "id": "rPBC3Auq648-",
        "colab_type": "code",
        "outputId": "896262ec-e3b2-434b-a149-ea08a571d1e1",
        "colab": {
          "base_uri": "https://localhost:8080/",
          "height": 35
        }
      },
      "source": [
        "a=33\n",
        "b=5\n",
        "print('a // b =',a//b)"
      ],
      "execution_count": 0,
      "outputs": [
        {
          "output_type": "stream",
          "text": [
            "a // b = 6\n"
          ],
          "name": "stdout"
        }
      ]
    },
    {
      "cell_type": "code",
      "metadata": {
        "id": "lD9O2LyR7xdV",
        "colab_type": "code",
        "outputId": "c42a083c-1e00-4aaa-900b-9924e4522c29",
        "colab": {
          "base_uri": "https://localhost:8080/",
          "height": 35
        }
      },
      "source": [
        "a=33\n",
        "b=5\n",
        "print('a / b = ',a/b)"
      ],
      "execution_count": 0,
      "outputs": [
        {
          "output_type": "stream",
          "text": [
            "a / b =  6.6\n"
          ],
          "name": "stdout"
        }
      ]
    },
    {
      "cell_type": "code",
      "metadata": {
        "id": "708IjclK85ek",
        "colab_type": "code",
        "outputId": "ea89fec5-8945-419f-b14f-6f4b09f1047d",
        "colab": {
          "base_uri": "https://localhost:8080/",
          "height": 35
        }
      },
      "source": [
        "a=3\n",
        "b=30\n",
        "print(' a ** b = ',a**b)"
      ],
      "execution_count": 0,
      "outputs": [
        {
          "output_type": "stream",
          "text": [
            " a ** b =  205891132094649\n"
          ],
          "name": "stdout"
        }
      ]
    }
  ]
}